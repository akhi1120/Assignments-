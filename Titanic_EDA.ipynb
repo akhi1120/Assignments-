{
 "cells": [
  {
   "cell_type": "markdown",
   "id": "1d21abe1-2109-4eee-8f38-7b24e1787c7d",
   "metadata": {},
   "source": [
    "# Importing Necessary libraries"
   ]
  },
  {
   "cell_type": "code",
   "execution_count": 3,
   "id": "bc4b6885-8cd8-4734-9cd5-ee00979b56d9",
   "metadata": {},
   "outputs": [],
   "source": [
    "import pandas as pd\n",
    "import numpy as np\n",
    "import matplotlib.pyplot as plt\n",
    "import seaborn as sns"
   ]
  },
  {
   "cell_type": "code",
   "execution_count": 5,
   "id": "99580161-eafc-4425-88cf-a831931438c8",
   "metadata": {},
   "outputs": [],
   "source": [
    "# Optional interactive plots\n",
    "import plotly.express as px"
   ]
  },
  {
   "cell_type": "code",
   "execution_count": 9,
   "id": "274fbf4b-ee30-46ed-a07b-b9124a73e82c",
   "metadata": {},
   "outputs": [],
   "source": [
    "df = pd.read_csv(\"C:\\\\Users\\\\akhil\\\\Downloads\\\\archive\\\\Titanic-Dataset.csv\")"
   ]
  },
  {
   "cell_type": "code",
   "execution_count": 11,
   "id": "c1cab77e-da3d-48fb-a14c-a2bb03277795",
   "metadata": {},
   "outputs": [
    {
     "data": {
      "text/html": [
       "<div>\n",
       "<style scoped>\n",
       "    .dataframe tbody tr th:only-of-type {\n",
       "        vertical-align: middle;\n",
       "    }\n",
       "\n",
       "    .dataframe tbody tr th {\n",
       "        vertical-align: top;\n",
       "    }\n",
       "\n",
       "    .dataframe thead th {\n",
       "        text-align: right;\n",
       "    }\n",
       "</style>\n",
       "<table border=\"1\" class=\"dataframe\">\n",
       "  <thead>\n",
       "    <tr style=\"text-align: right;\">\n",
       "      <th></th>\n",
       "      <th>PassengerId</th>\n",
       "      <th>Survived</th>\n",
       "      <th>Pclass</th>\n",
       "      <th>Name</th>\n",
       "      <th>Sex</th>\n",
       "      <th>Age</th>\n",
       "      <th>SibSp</th>\n",
       "      <th>Parch</th>\n",
       "      <th>Ticket</th>\n",
       "      <th>Fare</th>\n",
       "      <th>Cabin</th>\n",
       "      <th>Embarked</th>\n",
       "    </tr>\n",
       "  </thead>\n",
       "  <tbody>\n",
       "    <tr>\n",
       "      <th>0</th>\n",
       "      <td>1</td>\n",
       "      <td>0</td>\n",
       "      <td>3</td>\n",
       "      <td>Braund, Mr. Owen Harris</td>\n",
       "      <td>male</td>\n",
       "      <td>-0.530377</td>\n",
       "      <td>0.432793</td>\n",
       "      <td>-0.473674</td>\n",
       "      <td>A/5 21171</td>\n",
       "      <td>-0.502445</td>\n",
       "      <td>NaN</td>\n",
       "      <td>S</td>\n",
       "    </tr>\n",
       "    <tr>\n",
       "      <th>1</th>\n",
       "      <td>3</td>\n",
       "      <td>1</td>\n",
       "      <td>3</td>\n",
       "      <td>Heikkinen, Miss. Laina</td>\n",
       "      <td>female</td>\n",
       "      <td>-0.254825</td>\n",
       "      <td>-0.474545</td>\n",
       "      <td>-0.473674</td>\n",
       "      <td>STON/O2. 3101282</td>\n",
       "      <td>-0.488854</td>\n",
       "      <td>NaN</td>\n",
       "      <td>S</td>\n",
       "    </tr>\n",
       "    <tr>\n",
       "      <th>2</th>\n",
       "      <td>4</td>\n",
       "      <td>1</td>\n",
       "      <td>1</td>\n",
       "      <td>Futrelle, Mrs. Jacques Heath (Lily May Peel)</td>\n",
       "      <td>female</td>\n",
       "      <td>0.365167</td>\n",
       "      <td>0.432793</td>\n",
       "      <td>-0.473674</td>\n",
       "      <td>113803</td>\n",
       "      <td>0.420730</td>\n",
       "      <td>C123</td>\n",
       "      <td>S</td>\n",
       "    </tr>\n",
       "    <tr>\n",
       "      <th>3</th>\n",
       "      <td>5</td>\n",
       "      <td>0</td>\n",
       "      <td>3</td>\n",
       "      <td>Allen, Mr. William Henry</td>\n",
       "      <td>male</td>\n",
       "      <td>0.365167</td>\n",
       "      <td>-0.474545</td>\n",
       "      <td>-0.473674</td>\n",
       "      <td>373450</td>\n",
       "      <td>-0.486337</td>\n",
       "      <td>NaN</td>\n",
       "      <td>S</td>\n",
       "    </tr>\n",
       "    <tr>\n",
       "      <th>4</th>\n",
       "      <td>7</td>\n",
       "      <td>0</td>\n",
       "      <td>1</td>\n",
       "      <td>McCarthy, Mr. Timothy J</td>\n",
       "      <td>male</td>\n",
       "      <td>1.674039</td>\n",
       "      <td>-0.474545</td>\n",
       "      <td>-0.473674</td>\n",
       "      <td>17463</td>\n",
       "      <td>0.395814</td>\n",
       "      <td>E46</td>\n",
       "      <td>S</td>\n",
       "    </tr>\n",
       "  </tbody>\n",
       "</table>\n",
       "</div>"
      ],
      "text/plain": [
       "   PassengerId  Survived  Pclass  \\\n",
       "0            1         0       3   \n",
       "1            3         1       3   \n",
       "2            4         1       1   \n",
       "3            5         0       3   \n",
       "4            7         0       1   \n",
       "\n",
       "                                           Name     Sex       Age     SibSp  \\\n",
       "0                       Braund, Mr. Owen Harris    male -0.530377  0.432793   \n",
       "1                        Heikkinen, Miss. Laina  female -0.254825 -0.474545   \n",
       "2  Futrelle, Mrs. Jacques Heath (Lily May Peel)  female  0.365167  0.432793   \n",
       "3                      Allen, Mr. William Henry    male  0.365167 -0.474545   \n",
       "4                       McCarthy, Mr. Timothy J    male  1.674039 -0.474545   \n",
       "\n",
       "      Parch            Ticket      Fare Cabin Embarked  \n",
       "0 -0.473674         A/5 21171 -0.502445   NaN        S  \n",
       "1 -0.473674  STON/O2. 3101282 -0.488854   NaN        S  \n",
       "2 -0.473674            113803  0.420730  C123        S  \n",
       "3 -0.473674            373450 -0.486337   NaN        S  \n",
       "4 -0.473674             17463  0.395814   E46        S  "
      ]
     },
     "execution_count": 11,
     "metadata": {},
     "output_type": "execute_result"
    }
   ],
   "source": [
    "df.head()"
   ]
  },
  {
   "cell_type": "code",
   "execution_count": 13,
   "id": "9f7b48d1-fbd0-4aa6-8e66-2b2b5c9dac1d",
   "metadata": {},
   "outputs": [
    {
     "name": "stdout",
     "output_type": "stream",
     "text": [
      "<class 'pandas.core.frame.DataFrame'>\n",
      "RangeIndex: 453 entries, 0 to 452\n",
      "Data columns (total 12 columns):\n",
      " #   Column       Non-Null Count  Dtype  \n",
      "---  ------       --------------  -----  \n",
      " 0   PassengerId  453 non-null    int64  \n",
      " 1   Survived     453 non-null    int64  \n",
      " 2   Pclass       453 non-null    int64  \n",
      " 3   Name         453 non-null    object \n",
      " 4   Sex          453 non-null    object \n",
      " 5   Age          453 non-null    float64\n",
      " 6   SibSp        453 non-null    float64\n",
      " 7   Parch        453 non-null    float64\n",
      " 8   Ticket       453 non-null    object \n",
      " 9   Fare         453 non-null    float64\n",
      " 10  Cabin        77 non-null     object \n",
      " 11  Embarked     453 non-null    object \n",
      "dtypes: float64(4), int64(3), object(5)\n",
      "memory usage: 42.6+ KB\n"
     ]
    }
   ],
   "source": [
    "# Basic info\n",
    "df.info()"
   ]
  },
  {
   "cell_type": "code",
   "execution_count": 15,
   "id": "afe90738-6e62-4a1b-a27f-076f2b17ff1e",
   "metadata": {},
   "outputs": [
    {
     "data": {
      "text/html": [
       "<div>\n",
       "<style scoped>\n",
       "    .dataframe tbody tr th:only-of-type {\n",
       "        vertical-align: middle;\n",
       "    }\n",
       "\n",
       "    .dataframe tbody tr th {\n",
       "        vertical-align: top;\n",
       "    }\n",
       "\n",
       "    .dataframe thead th {\n",
       "        text-align: right;\n",
       "    }\n",
       "</style>\n",
       "<table border=\"1\" class=\"dataframe\">\n",
       "  <thead>\n",
       "    <tr style=\"text-align: right;\">\n",
       "      <th></th>\n",
       "      <th>PassengerId</th>\n",
       "      <th>Survived</th>\n",
       "      <th>Pclass</th>\n",
       "      <th>Name</th>\n",
       "      <th>Sex</th>\n",
       "      <th>Age</th>\n",
       "      <th>SibSp</th>\n",
       "      <th>Parch</th>\n",
       "      <th>Ticket</th>\n",
       "      <th>Fare</th>\n",
       "      <th>Cabin</th>\n",
       "      <th>Embarked</th>\n",
       "    </tr>\n",
       "  </thead>\n",
       "  <tbody>\n",
       "    <tr>\n",
       "      <th>count</th>\n",
       "      <td>453.000000</td>\n",
       "      <td>453.000000</td>\n",
       "      <td>453.000000</td>\n",
       "      <td>453</td>\n",
       "      <td>453</td>\n",
       "      <td>453.000000</td>\n",
       "      <td>453.000000</td>\n",
       "      <td>4.530000e+02</td>\n",
       "      <td>453</td>\n",
       "      <td>453.000000</td>\n",
       "      <td>77</td>\n",
       "      <td>453</td>\n",
       "    </tr>\n",
       "    <tr>\n",
       "      <th>unique</th>\n",
       "      <td>NaN</td>\n",
       "      <td>NaN</td>\n",
       "      <td>NaN</td>\n",
       "      <td>453</td>\n",
       "      <td>2</td>\n",
       "      <td>NaN</td>\n",
       "      <td>NaN</td>\n",
       "      <td>NaN</td>\n",
       "      <td>417</td>\n",
       "      <td>NaN</td>\n",
       "      <td>62</td>\n",
       "      <td>3</td>\n",
       "    </tr>\n",
       "    <tr>\n",
       "      <th>top</th>\n",
       "      <td>NaN</td>\n",
       "      <td>NaN</td>\n",
       "      <td>NaN</td>\n",
       "      <td>Braund, Mr. Owen Harris</td>\n",
       "      <td>male</td>\n",
       "      <td>NaN</td>\n",
       "      <td>NaN</td>\n",
       "      <td>NaN</td>\n",
       "      <td>1601</td>\n",
       "      <td>NaN</td>\n",
       "      <td>D</td>\n",
       "      <td>S</td>\n",
       "    </tr>\n",
       "    <tr>\n",
       "      <th>freq</th>\n",
       "      <td>NaN</td>\n",
       "      <td>NaN</td>\n",
       "      <td>NaN</td>\n",
       "      <td>1</td>\n",
       "      <td>338</td>\n",
       "      <td>NaN</td>\n",
       "      <td>NaN</td>\n",
       "      <td>NaN</td>\n",
       "      <td>4</td>\n",
       "      <td>NaN</td>\n",
       "      <td>3</td>\n",
       "      <td>378</td>\n",
       "    </tr>\n",
       "    <tr>\n",
       "      <th>mean</th>\n",
       "      <td>451.955850</td>\n",
       "      <td>0.309051</td>\n",
       "      <td>2.401766</td>\n",
       "      <td>NaN</td>\n",
       "      <td>NaN</td>\n",
       "      <td>0.094101</td>\n",
       "      <td>-0.286267</td>\n",
       "      <td>-4.736736e-01</td>\n",
       "      <td>NaN</td>\n",
       "      <td>-0.324540</td>\n",
       "      <td>NaN</td>\n",
       "      <td>NaN</td>\n",
       "    </tr>\n",
       "    <tr>\n",
       "      <th>std</th>\n",
       "      <td>262.229866</td>\n",
       "      <td>0.462613</td>\n",
       "      <td>0.765516</td>\n",
       "      <td>NaN</td>\n",
       "      <td>NaN</td>\n",
       "      <td>0.788158</td>\n",
       "      <td>0.405986</td>\n",
       "      <td>1.389313e-15</td>\n",
       "      <td>NaN</td>\n",
       "      <td>0.272772</td>\n",
       "      <td>NaN</td>\n",
       "      <td>NaN</td>\n",
       "    </tr>\n",
       "    <tr>\n",
       "      <th>min</th>\n",
       "      <td>1.000000</td>\n",
       "      <td>0.000000</td>\n",
       "      <td>1.000000</td>\n",
       "      <td>NaN</td>\n",
       "      <td>NaN</td>\n",
       "      <td>-1.701472</td>\n",
       "      <td>-0.474545</td>\n",
       "      <td>-4.736736e-01</td>\n",
       "      <td>NaN</td>\n",
       "      <td>-0.648422</td>\n",
       "      <td>NaN</td>\n",
       "      <td>NaN</td>\n",
       "    </tr>\n",
       "    <tr>\n",
       "      <th>25%</th>\n",
       "      <td>217.000000</td>\n",
       "      <td>0.000000</td>\n",
       "      <td>2.000000</td>\n",
       "      <td>NaN</td>\n",
       "      <td>NaN</td>\n",
       "      <td>-0.530377</td>\n",
       "      <td>-0.474545</td>\n",
       "      <td>-4.736736e-01</td>\n",
       "      <td>NaN</td>\n",
       "      <td>-0.489609</td>\n",
       "      <td>NaN</td>\n",
       "      <td>NaN</td>\n",
       "    </tr>\n",
       "    <tr>\n",
       "      <th>50%</th>\n",
       "      <td>453.000000</td>\n",
       "      <td>0.000000</td>\n",
       "      <td>3.000000</td>\n",
       "      <td>NaN</td>\n",
       "      <td>NaN</td>\n",
       "      <td>-0.048161</td>\n",
       "      <td>-0.474545</td>\n",
       "      <td>-4.736736e-01</td>\n",
       "      <td>NaN</td>\n",
       "      <td>-0.443636</td>\n",
       "      <td>NaN</td>\n",
       "      <td>NaN</td>\n",
       "    </tr>\n",
       "    <tr>\n",
       "      <th>75%</th>\n",
       "      <td>689.000000</td>\n",
       "      <td>1.000000</td>\n",
       "      <td>3.000000</td>\n",
       "      <td>NaN</td>\n",
       "      <td>NaN</td>\n",
       "      <td>0.502943</td>\n",
       "      <td>-0.474545</td>\n",
       "      <td>-4.736736e-01</td>\n",
       "      <td>NaN</td>\n",
       "      <td>-0.270141</td>\n",
       "      <td>NaN</td>\n",
       "      <td>NaN</td>\n",
       "    </tr>\n",
       "    <tr>\n",
       "      <th>max</th>\n",
       "      <td>891.000000</td>\n",
       "      <td>1.000000</td>\n",
       "      <td>3.000000</td>\n",
       "      <td>NaN</td>\n",
       "      <td>NaN</td>\n",
       "      <td>2.362918</td>\n",
       "      <td>1.340132</td>\n",
       "      <td>-4.736736e-01</td>\n",
       "      <td>NaN</td>\n",
       "      <td>0.746912</td>\n",
       "      <td>NaN</td>\n",
       "      <td>NaN</td>\n",
       "    </tr>\n",
       "  </tbody>\n",
       "</table>\n",
       "</div>"
      ],
      "text/plain": [
       "        PassengerId    Survived      Pclass                     Name   Sex  \\\n",
       "count    453.000000  453.000000  453.000000                      453   453   \n",
       "unique          NaN         NaN         NaN                      453     2   \n",
       "top             NaN         NaN         NaN  Braund, Mr. Owen Harris  male   \n",
       "freq            NaN         NaN         NaN                        1   338   \n",
       "mean     451.955850    0.309051    2.401766                      NaN   NaN   \n",
       "std      262.229866    0.462613    0.765516                      NaN   NaN   \n",
       "min        1.000000    0.000000    1.000000                      NaN   NaN   \n",
       "25%      217.000000    0.000000    2.000000                      NaN   NaN   \n",
       "50%      453.000000    0.000000    3.000000                      NaN   NaN   \n",
       "75%      689.000000    1.000000    3.000000                      NaN   NaN   \n",
       "max      891.000000    1.000000    3.000000                      NaN   NaN   \n",
       "\n",
       "               Age       SibSp         Parch Ticket        Fare Cabin Embarked  \n",
       "count   453.000000  453.000000  4.530000e+02    453  453.000000    77      453  \n",
       "unique         NaN         NaN           NaN    417         NaN    62        3  \n",
       "top            NaN         NaN           NaN   1601         NaN     D        S  \n",
       "freq           NaN         NaN           NaN      4         NaN     3      378  \n",
       "mean      0.094101   -0.286267 -4.736736e-01    NaN   -0.324540   NaN      NaN  \n",
       "std       0.788158    0.405986  1.389313e-15    NaN    0.272772   NaN      NaN  \n",
       "min      -1.701472   -0.474545 -4.736736e-01    NaN   -0.648422   NaN      NaN  \n",
       "25%      -0.530377   -0.474545 -4.736736e-01    NaN   -0.489609   NaN      NaN  \n",
       "50%      -0.048161   -0.474545 -4.736736e-01    NaN   -0.443636   NaN      NaN  \n",
       "75%       0.502943   -0.474545 -4.736736e-01    NaN   -0.270141   NaN      NaN  \n",
       "max       2.362918    1.340132 -4.736736e-01    NaN    0.746912   NaN      NaN  "
      ]
     },
     "execution_count": 15,
     "metadata": {},
     "output_type": "execute_result"
    }
   ],
   "source": [
    "# Summary statistics\n",
    "df.describe(include='all')"
   ]
  },
  {
   "cell_type": "markdown",
   "id": "25623637-c389-43b0-87db-35fa5eebf021",
   "metadata": {},
   "source": [
    "# Visualizations (Histograms & Boxplots)\n"
   ]
  },
  {
   "cell_type": "code",
   "execution_count": 18,
   "id": "dab770ad-099a-434e-9749-033a62782d82",
   "metadata": {},
   "outputs": [
    {
     "data": {
      "image/png": "[encoded data removed]",
      "text/plain": [
       "<Figure size 800x500 with 1 Axes>"
      ]
     },
     "metadata": {},
     "output_type": "display_data"
    }
   ],
   "source": [
    "# Histogram for Age\n",
    "plt.figure(figsize=(8, 5))\n",
    "sns.histplot(df['Age'].dropna(), kde=True, bins=30)\n",
    "plt.title('Age Distribution')\n",
    "plt.show()\n"
   ]
  },
  {
   "cell_type": "code",
   "execution_count": 20,
   "id": "7f6a5634-f4a8-4c89-819e-1a81596b106a",
   "metadata": {},
   "outputs": [
    {
     "data": {
      "image/png": "[encoded data removed]",
      "text/plain": [
       "<Figure size 800x500 with 1 Axes>"
      ]
     },
     "metadata": {},
     "output_type": "display_data"
    }
   ],
   "source": [
    "# Boxplot for Fare\n",
    "plt.figure(figsize=(8, 5))\n",
    "sns.boxplot(x=df['Fare'])\n",
    "plt.title('Fare Boxplot')\n",
    "plt.show()"
   ]
  },
  {
   "cell_type": "markdown",
   "id": "95e6bf88-1a4c-4e85-a972-269c294cda83",
   "metadata": {},
   "source": [
    "# Pairplot & Correlation Matrix"
   ]
  },
  {
   "cell_type": "code",
   "execution_count": 31,
   "id": "6b0ff915-a47a-4b59-820f-bf17ffa45f4a",
   "metadata": {},
   "outputs": [
    {
     "data": {
      "image/png": "[encoded data removed]",
      "text/plain": [
       "<Figure size 1000x600 with 2 Axes>"
      ]
     },
     "metadata": {},
     "output_type": "display_data"
    }
   ],
   "source": [
    "# Correlation Matrix with numeric columns only\n",
    "corr_matrix = df.corr(numeric_only=True)\n",
    "\n",
    "# Plotting heatmap\n",
    "plt.figure(figsize=(10, 6))\n",
    "sns.heatmap(corr_matrix, annot=True, cmap='coolwarm')\n",
    "plt.title(\"Correlation Heatmap\")\n",
    "plt.show()"
   ]
  },
  {
   "cell_type": "code",
   "execution_count": null,
   "id": "1e7d6a7f-b1a6-4c82-a6d6-7b1e5fba2784",
   "metadata": {},
   "outputs": [],
   "source": [
    "# Pairplot for selected features\n",
    "sns.pairplot(df[['Survived', 'Pclass', 'Age', 'Fare']], hue='Survived')"
   ]
  },
  {
   "cell_type": "markdown",
   "id": "036fcc71-d810-45e0-bee4-4dd0694dd69f",
   "metadata": {},
   "source": [
    "# Detecting Skewness, Trends & Anomalies"
   ]
  },
  {
   "cell_type": "code",
   "execution_count": 26,
   "id": "1763c4ec-5c1b-4a84-9411-ae39b1229c9c",
   "metadata": {},
   "outputs": [
    {
     "name": "stdout",
     "output_type": "stream",
     "text": [
      "PassengerId   -0.010943\n",
      "Survived       0.829185\n",
      "Pclass        -0.825444\n",
      "Age            0.787218\n",
      "SibSp          2.024625\n",
      "Parch          0.000000\n",
      "Fare           1.965907\n",
      "dtype: float64\n"
     ]
    }
   ],
   "source": [
    "# Skewness\n",
    "print(df.skew(numeric_only=True))"
   ]
  },
  {
   "cell_type": "code",
   "execution_count": 28,
   "id": "07d8157e-5d92-49ad-8001-e15033c3faf7",
   "metadata": {},
   "outputs": [
    {
     "data": {
      "text/plain": [
       "PassengerId      0\n",
       "Survived         0\n",
       "Pclass           0\n",
       "Name             0\n",
       "Sex              0\n",
       "Age              0\n",
       "SibSp            0\n",
       "Parch            0\n",
       "Ticket           0\n",
       "Fare             0\n",
       "Cabin          376\n",
       "Embarked         0\n",
       "dtype: int64"
      ]
     },
     "execution_count": 28,
     "metadata": {},
     "output_type": "execute_result"
    }
   ],
   "source": [
    "# Checking for missing values\n",
    "df.isnull().sum()"
   ]
  },
  {
   "cell_type": "code",
   "execution_count": null,
   "id": "d53b3d7f-61f7-42e2-ab03-13a98318ddea",
   "metadata": {},
   "outputs": [],
   "source": [
    "# Visualize missing data\n",
    "sns.heatmap(df.isnull(), cbar=False, yticklabels=False, cmap='viridis')\n",
    "plt.title(\"Missing Data Heatmap\")\n",
    "plt.show()"
   ]
  },
  {
   "cell_type": "markdown",
   "id": "001d0658-440b-469d-9c45-3b8b8d42a3ba",
   "metadata": {},
   "source": [
    "# Categorical Analysis"
   ]
  },
  {
   "cell_type": "code",
   "execution_count": null,
   "id": "47c74c82-0b77-4aea-8425-7bb8a3f02818",
   "metadata": {},
   "outputs": [],
   "source": [
    "# Countplot of survival\n",
    "sns.countplot(x='Survived', data=df)\n",
    "plt.title(\"Survival Count\")"
   ]
  },
  {
   "cell_type": "code",
   "execution_count": null,
   "id": "a5a775d8-c7e2-4ade-9c4e-275372b31f7d",
   "metadata": {},
   "outputs": [],
   "source": [
    "# Pclass vs Survival\n",
    "sns.countplot(x='Pclass', hue='Survived', data=df)\n",
    "plt.title(\"Pclass vs Survival\")"
   ]
  },
  {
   "cell_type": "code",
   "execution_count": null,
   "id": "300fd063-825a-4222-8ed1-ce51f692eedb",
   "metadata": {},
   "outputs": [],
   "source": [
    "# Gender vs Survival\n",
    "sns.countplot(x='Sex', hue='Survived', data=df)\n",
    "plt.title(\"Sex vs Survival\")"
   ]
  }
 ],
 "metadata": {
  "kernelspec": {
   "display_name": "Python 3 (ipykernel)",
   "language": "python",
   "name": "python3"
  },
  "language_info": {
   "codemirror_mode": {
    "name": "ipython",
    "version": 3
   },
   "file_extension": ".py",
   "mimetype": "text/x-python",
   "name": "python",
   "nbconvert_exporter": "python",
   "pygments_lexer": "ipython3",
   "version": "3.12.7"
  }
 },
 "nbformat": 4,
 "nbformat_minor": 5
}
